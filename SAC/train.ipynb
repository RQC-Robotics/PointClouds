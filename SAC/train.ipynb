{
 "cells": [
  {
   "cell_type": "code",
   "execution_count": 1,
   "metadata": {},
   "outputs": [],
   "source": [
    "import torch\n",
    "import numpy as np\n",
    "import torch.nn as nn\n",
    "import networks\n",
    "import replaybuffer\n",
    "import gym\n",
    "import matplotlib.pyplot as plt\n",
    "import sys, os\n",
    "import utils\n",
    "# import open3d as o3d\n",
    "import time\n",
    "# import PointCloudsGenerator as PCG\n",
    "import GPUtil\n",
    "from torch.utils.tensorboard import SummaryWriter\n",
    "\n",
    "if type(os.environ.get(\"DISPLAY\")) is not str or len(os.environ.get(\"DISPLAY\")) == 0:\n",
    "    !bash /home/as/xvfb start\n",
    "    os.environ['DISPLAY'] = ':1'"
   ]
  },
  {
   "cell_type": "code",
   "execution_count": 2,
   "metadata": {},
   "outputs": [
    {
     "name": "stderr",
     "output_type": "stream",
     "text": [
      "/home/albert/anaconda3/envs/drqv2/lib/python3.8/site-packages/h5py/__init__.py:46: DeprecationWarning: `np.typeDict` is a deprecated alias for `np.sctypeDict`.\n",
      "  from ._conv import register_converters as _register_converters\n"
     ]
    }
   ],
   "source": [
    "import dm_control\n",
    "import numpy as np\n",
    "import math\n",
    "\n",
    "from dm_control import mujoco\n",
    "\n",
    "# Access to enums and MuJoCo library functions.\n",
    "from dm_control.mujoco.wrapper.mjbindings import enums\n",
    "from dm_control.mujoco.wrapper.mjbindings import mjlib\n",
    "\n",
    "# PyMJCF\n",
    "from dm_control import mjcf\n",
    "\n",
    "# Composer high level imports\n",
    "from dm_control import composer\n",
    "from dm_control.composer.observation import observable\n",
    "from dm_control.composer import variation\n",
    "\n",
    "# Imports for Composer tutorial example\n",
    "from dm_control.composer.variation import distributions\n",
    "from dm_control.composer.variation import noises\n",
    "from dm_control.locomotion.arenas import floors\n",
    "\n",
    "# Control Suite\n",
    "from dm_control import suite\n",
    "\n",
    "# Run through corridor example\n",
    "from dm_control.locomotion.walkers import cmu_humanoid\n",
    "from dm_control.locomotion.arenas import corridors as corridor_arenas\n",
    "from dm_control.locomotion.tasks import corridors as corridor_tasks\n",
    "\n",
    "# Soccer\n",
    "from dm_control.locomotion import soccer\n",
    "\n",
    "# Manipulation\n",
    "from dm_control import manipulation\n",
    "\n",
    "from warnings import filterwarnings\n",
    "filterwarnings(action='ignore', category=DeprecationWarning, message='`np.bool` is a deprecated alias')\n",
    "filterwarnings(action='ignore', category=DeprecationWarning, message='Using or importing the ABCs')\n"
   ]
  },
  {
   "cell_type": "code",
   "execution_count": 3,
   "metadata": {},
   "outputs": [],
   "source": [
    "from torchvision.transforms import Resize\n",
    "from PIL import Image\n",
    "import numpy as np\n",
    "from gym.spaces import Box\n",
    "\n",
    "\n",
    "class Wrapper:\n",
    "    \"\"\" Partially solves problem with  compatibality\"\"\"\n",
    "\n",
    "    def __init__(self, env):\n",
    "        self._env = env\n",
    "        self.observation_space, self.action_space = self._infer_spaces(env)\n",
    "\n",
    "    def observation(self, timestamp):\n",
    "        return timestamp.observation\n",
    "\n",
    "    def reward(self, timestamp):\n",
    "        return np.float32(timestamp.reward)\n",
    "\n",
    "    def done(self, timestamp):\n",
    "        return timestamp.last()\n",
    "\n",
    "    def step(self, action):\n",
    "        timestamp = self._env.step(action)\n",
    "        obs = self.observation(timestamp)\n",
    "        r = self.reward(timestamp)\n",
    "        d = self.done(timestamp)\n",
    "        return obs, r, d, None\n",
    "\n",
    "    def reset(self):\n",
    "        return self.observation(self._env.reset())\n",
    "\n",
    "    @staticmethod\n",
    "    def _infer_spaces(env):\n",
    "        lim = 1.\n",
    "        spec = env.action_spec()\n",
    "        action_space = Box(low=spec.minimum.astype(np.float32), dtype=np.float32,\n",
    "                           high=spec.maximum.astype(np.float32), shape=spec.shape)\n",
    "        ar = list(env.observation_spec().values())[0]\n",
    "        obs_sample = np.concatenate(list(map(lambda ar: ar.generate_value() if ar.shape != () else [1],\n",
    "                                             env.observation_spec().values())))\n",
    "        obs_space = Box(low=-lim, high=lim, shape=obs_sample.shape, dtype=ar.dtype)\n",
    "        return obs_space, action_space\n",
    "\n",
    "    @property\n",
    "    def unwrapped(self):\n",
    "        if hasattr(self._env, 'unwrapped'):\n",
    "            return self._env.unwrapped\n",
    "        return self._env\n",
    "\n",
    "    def __getattr__(self, item):\n",
    "        return getattr(self._env, item)\n",
    "\n",
    "    def __repr__(self):\n",
    "        return f\"{self.__class__.__name__}\""
   ]
  },
  {
   "cell_type": "code",
   "execution_count": 4,
   "metadata": {},
   "outputs": [],
   "source": [
    "class dmWrapper(Wrapper):\n",
    "    def __init__(self, env):\n",
    "        self._env = env\n",
    "\n",
    "    # def observation(self, timestamp):\n",
    "    #     obs = np.array([])\n",
    "    #     for v in timestamp.observation.values():\n",
    "    #         if not v.ndim:\n",
    "    #             v = v[None]\n",
    "    #         obs = np.concatenate((obs, v))\n",
    "    #     return obs.astype(np.float32)\n",
    "\n",
    "    def observation(self, timestamp):\n",
    "        obs = np.array([])\n",
    "        for v in timestamp.observation.values():\n",
    "            if not v.ndim:\n",
    "                v = v[None]\n",
    "            obs = np.concatenate((obs, v.flatten()))\n",
    "        return obs.astype(np.float32)\n",
    "    \n",
    "    def reset(self):\n",
    "        return self.observation(self._env.reset())\n",
    "\n",
    "    def render(self, camera_id=0):\n",
    "        return self._env.physics.render(camera_id=camera_id)    \n",
    "\n",
    "    def step(self, action):\n",
    "        timestamp = self._env.step(action)\n",
    "        obs = self.observation(timestamp)\n",
    "        r = timestamp.reward\n",
    "        d = timestamp.last()\n",
    "        return obs, r, d, None"
   ]
  },
  {
   "cell_type": "code",
   "execution_count": 5,
   "metadata": {},
   "outputs": [
    {
     "data": {
      "text/plain": [
       "(('acrobot', 'swingup'),\n",
       " ('acrobot', 'swingup_sparse'),\n",
       " ('ball_in_cup', 'catch'),\n",
       " ('cartpole', 'balance'),\n",
       " ('cartpole', 'balance_sparse'),\n",
       " ('cartpole', 'swingup'),\n",
       " ('cartpole', 'swingup_sparse'),\n",
       " ('cartpole', 'two_poles'),\n",
       " ('cartpole', 'three_poles'),\n",
       " ('cheetah', 'run'),\n",
       " ('dog', 'stand'),\n",
       " ('dog', 'walk'),\n",
       " ('dog', 'trot'),\n",
       " ('dog', 'run'),\n",
       " ('dog', 'fetch'),\n",
       " ('finger', 'spin'),\n",
       " ('finger', 'turn_easy'),\n",
       " ('finger', 'turn_hard'),\n",
       " ('fish', 'upright'),\n",
       " ('fish', 'swim'),\n",
       " ('hopper', 'stand'),\n",
       " ('hopper', 'hop'),\n",
       " ('humanoid', 'stand'),\n",
       " ('humanoid', 'walk'),\n",
       " ('humanoid', 'run'),\n",
       " ('humanoid', 'run_pure_state'),\n",
       " ('humanoid_CMU', 'stand'),\n",
       " ('humanoid_CMU', 'run'),\n",
       " ('lqr', 'lqr_2_1'),\n",
       " ('lqr', 'lqr_6_2'),\n",
       " ('manipulator', 'bring_ball'),\n",
       " ('manipulator', 'bring_peg'),\n",
       " ('manipulator', 'insert_ball'),\n",
       " ('manipulator', 'insert_peg'),\n",
       " ('pendulum', 'swingup'),\n",
       " ('point_mass', 'easy'),\n",
       " ('point_mass', 'hard'),\n",
       " ('quadruped', 'walk'),\n",
       " ('quadruped', 'run'),\n",
       " ('quadruped', 'escape'),\n",
       " ('quadruped', 'fetch'),\n",
       " ('reacher', 'easy'),\n",
       " ('reacher', 'hard'),\n",
       " ('stacker', 'stack_2'),\n",
       " ('stacker', 'stack_4'),\n",
       " ('swimmer', 'swimmer6'),\n",
       " ('swimmer', 'swimmer15'),\n",
       " ('walker', 'stand'),\n",
       " ('walker', 'walk'),\n",
       " ('walker', 'run'))"
      ]
     },
     "execution_count": 5,
     "metadata": {},
     "output_type": "execute_result"
    }
   ],
   "source": [
    "suite.ALL_TASKS"
   ]
  },
  {
   "cell_type": "code",
   "execution_count": 6,
   "metadata": {},
   "outputs": [
    {
     "name": "stdout",
     "output_type": "stream",
     "text": [
      "cuda:0\n"
     ]
    }
   ],
   "source": [
    "device = torch.device('cuda:0' if torch.cuda.is_available() else 'cpu')\n",
    "print(device)\n",
    "# env = manipulation.load('reach_site_features', seed=42)\n",
    "# random_state = np.random.RandomState(42)\n",
    "# test_env = manipulation.load('reach_site_features', seed=42)\n",
    "\n",
    "ENV_NAME = 'cartpole'\n",
    "ENV_TASK = 'swingup'\n",
    "\n",
    "env = suite.load(ENV_NAME, ENV_TASK)\n",
    "test_env = suite.load(ENV_NAME, ENV_TASK)\n",
    "\n",
    "env = dmWrapper(env)\n",
    "test_env = dmWrapper(test_env)\n",
    "\n",
    "s = env.reset()\n",
    "s = test_env.reset()\n",
    "\n",
    "\n"
   ]
  },
  {
   "cell_type": "code",
   "execution_count": 7,
   "metadata": {},
   "outputs": [
    {
     "data": {
      "text/plain": [
       "(5,)"
      ]
     },
     "execution_count": 7,
     "metadata": {},
     "output_type": "execute_result"
    }
   ],
   "source": [
    "s.shape"
   ]
  },
  {
   "cell_type": "code",
   "execution_count": 8,
   "metadata": {},
   "outputs": [
    {
     "name": "stderr",
     "output_type": "stream",
     "text": [
      "/home/albert/anaconda3/envs/drqv2/lib/python3.8/site-packages/dm_control/mujoco/engine.py:1026: DeprecationWarning: `np.float` is a deprecated alias for the builtin `float`. To silence this warning, use `float` by itself. Doing this will not modify any behavior and is safe. If you specifically wanted the numpy scalar type, use `np.float64` here.\n",
      "Deprecated in NumPy 1.20; for more details and guidance: https://numpy.org/devdocs/release/1.20.0-notes.html#deprecations\n",
      "  minima = np.full(num_actions, fill_value=-constants.mjMAXVAL, dtype=np.float)\n",
      "/home/albert/anaconda3/envs/drqv2/lib/python3.8/site-packages/dm_control/mujoco/engine.py:1027: DeprecationWarning: `np.float` is a deprecated alias for the builtin `float`. To silence this warning, use `float` by itself. Doing this will not modify any behavior and is safe. If you specifically wanted the numpy scalar type, use `np.float64` here.\n",
      "Deprecated in NumPy 1.20; for more details and guidance: https://numpy.org/devdocs/release/1.20.0-notes.html#deprecations\n",
      "  maxima = np.full(num_actions, fill_value=constants.mjMAXVAL, dtype=np.float)\n",
      "/home/albert/anaconda3/envs/drqv2/lib/python3.8/site-packages/dm_control/mujoco/engine.py:1031: DeprecationWarning: `np.float` is a deprecated alias for the builtin `float`. To silence this warning, use `float` by itself. Doing this will not modify any behavior and is safe. If you specifically wanted the numpy scalar type, use `np.float64` here.\n",
      "Deprecated in NumPy 1.20; for more details and guidance: https://numpy.org/devdocs/release/1.20.0-notes.html#deprecations\n",
      "  shape=(num_actions,), dtype=np.float, minimum=minima, maximum=maxima)\n"
     ]
    },
    {
     "data": {
      "text/plain": [
       "BoundedArray(shape=(1,), dtype=dtype('float64'), name=None, minimum=[-1.], maximum=[1.])"
      ]
     },
     "execution_count": 8,
     "metadata": {},
     "output_type": "execute_result"
    }
   ],
   "source": [
    "env.action_spec()"
   ]
  },
  {
   "cell_type": "code",
   "execution_count": 9,
   "metadata": {},
   "outputs": [
    {
     "name": "stderr",
     "output_type": "stream",
     "text": [
      "/home/albert/anaconda3/envs/drqv2/lib/python3.8/site-packages/tensorflow/python/framework/dtypes.py:513: DeprecationWarning: `np.object` is a deprecated alias for the builtin `object`. To silence this warning, use `object` by itself. Doing this will not modify any behavior and is safe. \n",
      "Deprecated in NumPy 1.20; for more details and guidance: https://numpy.org/devdocs/release/1.20.0-notes.html#deprecations\n",
      "  np.object,\n",
      "/home/albert/anaconda3/envs/drqv2/lib/python3.8/site-packages/tensorflow/python/framework/dtypes.py:555: DeprecationWarning: `np.object` is a deprecated alias for the builtin `object`. To silence this warning, use `object` by itself. Doing this will not modify any behavior and is safe. \n",
      "Deprecated in NumPy 1.20; for more details and guidance: https://numpy.org/devdocs/release/1.20.0-notes.html#deprecations\n",
      "  np.object,\n",
      "/home/albert/anaconda3/envs/drqv2/lib/python3.8/site-packages/tensorflow/python/framework/tensor_util.py:108: DeprecationWarning: `np.object` is a deprecated alias for the builtin `object`. To silence this warning, use `object` by itself. Doing this will not modify any behavior and is safe. \n",
      "Deprecated in NumPy 1.20; for more details and guidance: https://numpy.org/devdocs/release/1.20.0-notes.html#deprecations\n",
      "  np.object:\n",
      "/home/albert/anaconda3/envs/drqv2/lib/python3.8/site-packages/tensorflow/python/ops/numpy_ops/np_random.py:95: DeprecationWarning: `np.int` is a deprecated alias for the builtin `int`. To silence this warning, use `int` by itself. Doing this will not modify any behavior and is safe. When replacing `np.int`, you may wish to use e.g. `np.int64` or `np.int32` to specify the precision. If you wish to review your current use, check the release note link for additional information.\n",
      "Deprecated in NumPy 1.20; for more details and guidance: https://numpy.org/devdocs/release/1.20.0-notes.html#deprecations\n",
      "  def randint(low, high=None, size=None, dtype=onp.int):  # pylint: disable=missing-function-docstring\n"
     ]
    },
    {
     "name": "stdout",
     "output_type": "stream",
     "text": [
      "5\n",
      "1\n"
     ]
    }
   ],
   "source": [
    "hyper = {\n",
    "    'state_dim': 5,\n",
    "    # 'state_dim': (3, 1000, 3),\n",
    "    # 'state_dim': (3, 1000),\n",
    "    'act_dim': 1,\n",
    "    'device': device.type + ':' + str(device.index),\n",
    "    # 'enc_type': 'PointCloud',\n",
    "    'enc_type': 'Linear',\n",
    "    'hid_size': 64,\n",
    "    'num_filters': 32,\n",
    "    'alpha': 0.01,\n",
    "    'polyak': 0.995,\n",
    "    'lr': 3e-4,\n",
    "    'batch_size': 256,\n",
    "    'gamma': 0.99,\n",
    "    'n_eval_games': 10,\n",
    "    'max_episod_len': 1000,\n",
    "    'eval_freq': 10000,\n",
    "    'total_steps': 5000000,\n",
    "    'buffer_size': 100000,\n",
    "    'start_steps': 10000,\n",
    "    # 'start_steps': 1,\n",
    "    'update_freq': 1,\n",
    "    'aug_flag': False,\n",
    "    'aug_pad': 4,\n",
    "}\n",
    "\n",
    "LOG_DIR = './logs/pic/' + ENV_NAME + '_' + ENV_TASK\n",
    "\n",
    "logger = SummaryWriter(LOG_DIR)\n",
    "logger.add_hparams(hyper, \n",
    "                {'loss': 0})\n",
    "\n",
    "\n",
    "print(hyper['state_dim'])\n",
    "print(hyper['act_dim'])"
   ]
  },
  {
   "cell_type": "code",
   "execution_count": 10,
   "metadata": {},
   "outputs": [
    {
     "name": "stdout",
     "output_type": "stream",
     "text": [
      "SACAgent(\n",
      "  (policy): Actor(\n",
      "    (enc): MLPEncoder(\n",
      "      (net): Sequential(\n",
      "        (0): Linear(in_features=5, out_features=64, bias=True)\n",
      "        (1): ReLU()\n",
      "        (2): Linear(in_features=64, out_features=64, bias=True)\n",
      "        (3): ReLU()\n",
      "      )\n",
      "    )\n",
      "    (mu): Linear(in_features=64, out_features=1, bias=True)\n",
      "    (log_std): Linear(in_features=64, out_features=1, bias=True)\n",
      "  )\n",
      "  (Q1): Critic(\n",
      "    (enc): MLPEncoder(\n",
      "      (net): Sequential(\n",
      "        (0): Linear(in_features=6, out_features=64, bias=True)\n",
      "        (1): ReLU()\n",
      "        (2): Linear(in_features=64, out_features=64, bias=True)\n",
      "        (3): ReLU()\n",
      "      )\n",
      "    )\n",
      "    (q): Linear(in_features=64, out_features=1, bias=True)\n",
      "  )\n",
      "  (Q2): Critic(\n",
      "    (enc): MLPEncoder(\n",
      "      (net): Sequential(\n",
      "        (0): Linear(in_features=6, out_features=64, bias=True)\n",
      "        (1): ReLU()\n",
      "        (2): Linear(in_features=64, out_features=64, bias=True)\n",
      "        (3): ReLU()\n",
      "      )\n",
      "    )\n",
      "    (q): Linear(in_features=64, out_features=1, bias=True)\n",
      "  )\n",
      "  (policy_target): Actor(\n",
      "    (enc): MLPEncoder(\n",
      "      (net): Sequential(\n",
      "        (0): Linear(in_features=5, out_features=64, bias=True)\n",
      "        (1): ReLU()\n",
      "        (2): Linear(in_features=64, out_features=64, bias=True)\n",
      "        (3): ReLU()\n",
      "      )\n",
      "    )\n",
      "    (mu): Linear(in_features=64, out_features=1, bias=True)\n",
      "    (log_std): Linear(in_features=64, out_features=1, bias=True)\n",
      "  )\n",
      "  (Q1_target): Critic(\n",
      "    (enc): MLPEncoder(\n",
      "      (net): Sequential(\n",
      "        (0): Linear(in_features=6, out_features=64, bias=True)\n",
      "        (1): ReLU()\n",
      "        (2): Linear(in_features=64, out_features=64, bias=True)\n",
      "        (3): ReLU()\n",
      "      )\n",
      "    )\n",
      "    (q): Linear(in_features=64, out_features=1, bias=True)\n",
      "  )\n",
      "  (Q2_target): Critic(\n",
      "    (enc): MLPEncoder(\n",
      "      (net): Sequential(\n",
      "        (0): Linear(in_features=6, out_features=64, bias=True)\n",
      "        (1): ReLU()\n",
      "        (2): Linear(in_features=64, out_features=64, bias=True)\n",
      "        (3): ReLU()\n",
      "      )\n",
      "    )\n",
      "    (q): Linear(in_features=64, out_features=1, bias=True)\n",
      "  )\n",
      ")\n"
     ]
    }
   ],
   "source": [
    "agent = networks.SACAgent(hyper['state_dim'], hyper['act_dim'], hyper['device'], hyper['enc_type'], hyper['hid_size'], hyper['num_filters'], hyper['alpha'], hyper['polyak'], hyper['lr'], hyper['batch_size'], hyper['gamma'])\n",
    "\n",
    "print(agent)"
   ]
  },
  {
   "cell_type": "code",
   "execution_count": 11,
   "metadata": {},
   "outputs": [
    {
     "name": "stdout",
     "output_type": "stream",
     "text": [
      "28040\n"
     ]
    }
   ],
   "source": [
    "print(sum(p.numel() for p in agent.parameters()))"
   ]
  },
  {
   "cell_type": "code",
   "execution_count": 12,
   "metadata": {},
   "outputs": [],
   "source": [
    "def evaluate(env, agent, n_games=1, max_episod_len=hyper['max_episod_len']):\n",
    "    reward = 0\n",
    "    act = []\n",
    "    for n in range(n_games):\n",
    "        s = env.reset()\n",
    "        # s = torch.Tensor([s], dtype=torch.float32, device=hyper['device'])\n",
    "        for st in range(max_episod_len):\n",
    "            a = agent.get_action([s], determ=True).cpu().numpy()[0]\n",
    "            s, r, d, _ = env.step(a)\n",
    "            reward += r\n",
    "            act.append(a)\n",
    "            if d:\n",
    "                # act.append(0)\n",
    "                break\n",
    "    return (reward/n_games), act"
   ]
  },
  {
   "cell_type": "code",
   "execution_count": 13,
   "metadata": {},
   "outputs": [],
   "source": [
    "step = 0\n",
    "steps = []\n",
    "buffer = replaybuffer.ReplayBufer(hyper['buffer_size'], hyper['act_dim'], hyper['state_dim'], hyper['device'], image_pad=hyper['aug_pad'], enc_type=hyper['enc_type'], aug_flag=hyper['aug_flag'])\n",
    "# buffer = replaybuffer.TensorReplayBufer(hyper['buffer_size'], hyper['act_dim'], hyper['state_dim'], 'cpu', image_pad=hyper['aug_pad'], enc_type=hyper['enc_type'], aug_flag=hyper['aug_flag'])\n",
    "state = env.reset()\n",
    "return_hist = []\n",
    "q1_hist = []\n",
    "q2_hist = []\n",
    "acts = []\n",
    "entropy_hist = []\n",
    "alpha_hist = []\n",
    "q1_grad_hist = []\n",
    "q2_grad_hist = []\n",
    "\n",
    "policy_grad_hist = []\n",
    "\n",
    "\n",
    "max_mean_return = -100000"
   ]
  },
  {
   "cell_type": "code",
   "execution_count": 14,
   "metadata": {},
   "outputs": [
    {
     "data": {
      "image/png": "[encoded data removed]",
      "text/plain": [
       "<Figure size 1080x720 with 7 Axes>"
      ]
     },
     "metadata": {
      "needs_background": "light"
     },
     "output_type": "display_data"
    },
    {
     "name": "stderr",
     "output_type": "stream",
     "text": [
      "100%|██████████| 5000001/5000001 [14:32:46<00:00, 95.48it/s] \n"
     ]
    }
   ],
   "source": [
    "import tqdm\n",
    "from IPython.display import clear_output\n",
    "import time\n",
    "\n",
    "ep_len = 0\n",
    "\n",
    "\n",
    "with tqdm.trange(step, hyper['total_steps'] + 1) as progress_bar:\n",
    "    for step in progress_bar:\n",
    "        if step > hyper['start_steps']:\n",
    "            # ss = time.time()\n",
    "            action = agent.get_action([state]).cpu().numpy()[0]\n",
    "            # ee = time.time()\n",
    "            # print(\"get action\", ee - ss)\n",
    "        else:\n",
    "            # action = env.action_space.sample()\n",
    "            action = np.random.uniform(-1, 1, size=(1,))\n",
    "        \n",
    "        # if ep_len == 0:\n",
    "        #     with torch.no_grad():\n",
    "        #         q1_hist.append(agent.Q1(torch.as_tensor([state], dtype=torch.float32, device=agent.device), torch.as_tensor([action], dtype=torch.float32, device=agent.device)).item())\n",
    "        #         q2_hist.append(agent.Q2(torch.as_tensor([state], dtype=torch.float32, device=agent.device), torch.as_tensor([action], dtype=torch.float32, device=agent.device)).item())\n",
    "\n",
    "\n",
    "        next_state, reward, done, _ = env.step(action)\n",
    "        \n",
    "        ep_len += 1\n",
    "\n",
    "\n",
    "\n",
    "        done = False if (ep_len == hyper['max_episod_len']) else done\n",
    "        buffer.store(state, action, reward, next_state, done)\n",
    "        state = next_state\n",
    "\n",
    "        if done or (ep_len == hyper['max_episod_len']):\n",
    "            state = env.reset()\n",
    "            ep_len = 0\n",
    "        \n",
    "        \n",
    "        if step % hyper['update_freq'] == 0:\n",
    "\n",
    "            # ss = time.time()\n",
    "            s, a, r, s_next, d = buffer.sample_batch(hyper['batch_size'])\n",
    "            # ee = time.time()\n",
    "            # print(\"Sample Batch\", ee - ss)\n",
    "\n",
    "            # ss = time.time()\n",
    "            agent.update(s, a, r, s_next, d)\n",
    "            # ee = time.time()\n",
    "            # print(\"update\", ee - ss)\n",
    "            q1_grad_hist.append(agent.q1_grad.item())\n",
    "            q2_grad_hist.append(agent.q2_grad.item())\n",
    "            policy_grad_hist.append(agent.policy_grad.item())\n",
    "            entropy_hist.append(agent.entropy.item())\n",
    "            alpha_hist.append(agent.log_alpha.exp().cpu().item())\n",
    "\n",
    "            logger.add_scalar('grads/Q1_grad', agent.q1_grad.item(), step)\n",
    "            logger.add_scalar('grads/Q2_grad', agent.q2_grad.item(), step)\n",
    "            logger.add_scalar('grads/Policy_grad', agent.policy_grad.item(), step)\n",
    "            logger.add_scalar('entropy/Entropy', agent.entropy.item(), step)\n",
    "            logger.add_scalar('entropy/Alpha', agent.log_alpha.exp().cpu().item(), step)\n",
    "            logger.add_scalar('return/Buffer_mean_reward', buffer.rew_buf.mean(), step)\n",
    "\n",
    "        if (step+1) % hyper['eval_freq'] == 0:\n",
    "            mean_return, pol = evaluate(test_env, agent, hyper['n_eval_games'])\n",
    "            \n",
    "            logger.add_scalar('return/Eval_return', mean_return, step)\n",
    "\n",
    "            clear_output()\n",
    "            steps.append(step)\n",
    "            return_hist.append(mean_return)\n",
    "            \n",
    "            if mean_return > max_mean_return:\n",
    "                torch.save(agent, 'best_agent_.pth')\n",
    "                max_mean_return = mean_return\n",
    "\n",
    "            figg = plt.figure(figsize=(15, 10))\n",
    "\n",
    "            plt.subplot(3, 3, 1)\n",
    "            plt.title('Eval return')\n",
    "            plt.plot(steps, return_hist)\n",
    "            plt.grid(True)\n",
    "\n",
    "            plt.subplot(3, 3, 2)\n",
    "            plt.title('Q1 GRAD')\n",
    "            plt.plot(q1_grad_hist)\n",
    "            plt.grid(True)\n",
    "\n",
    "            plt.subplot(3, 3, 3)\n",
    "            plt.title('Q2 GRAD')\n",
    "            plt.plot(q2_grad_hist)\n",
    "            plt.grid(True)\n",
    "            \n",
    "            plt.subplot(3, 3, 4)\n",
    "            plt.title('Policy actions')\n",
    "            plt.plot(pol)\n",
    "            plt.grid(True)\n",
    "\n",
    "            plt.subplot(3, 3, 5)\n",
    "            plt.title('Policy GRAD')\n",
    "            plt.plot(policy_grad_hist)\n",
    "            plt.grid(True)\n",
    "\n",
    "            plt.subplot(3, 3, 6)\n",
    "            plt.title('Entropy')\n",
    "            plt.plot(entropy_hist)\n",
    "            plt.grid(True)\n",
    "\n",
    "            plt.subplot(3, 3, 7)\n",
    "            plt.title('Alpha')\n",
    "            plt.plot(alpha_hist)\n",
    "            plt.grid(True)\n",
    "\n",
    "            plt.show()\n",
    "            \n",
    "            # figg.savefig('gr1.png')\n",
    "\n",
    "            torch.save(agent, 'last_agent1.pth')"
   ]
  },
  {
   "cell_type": "code",
   "execution_count": 35,
   "metadata": {},
   "outputs": [],
   "source": [
    "agent = torch.load('best_agent_reacher_easy_state.pth')"
   ]
  },
  {
   "cell_type": "code",
   "execution_count": 36,
   "metadata": {},
   "outputs": [],
   "source": [
    "import utils"
   ]
  },
  {
   "cell_type": "code",
   "execution_count": 37,
   "metadata": {},
   "outputs": [
    {
     "name": "stderr",
     "output_type": "stream",
     "text": [
      "sh: 1: Xvfb: not found\n"
     ]
    }
   ],
   "source": [
    "import os\n",
    "os.system(\"Xvfb :1 -screen 0 1024x768x24 &\")\n",
    "os.environ['DISPLAY'] = ':1'\n",
    "import base64\n",
    "from pathlib import Path\n",
    "\n",
    "from IPython import display as ipythondisplay\n",
    "\n",
    "\n",
    "def record_video(env, model, video_length=500, prefix='', video_folder='videos/'):\n",
    "  \"\"\"\n",
    "  :param env_id: (str)\n",
    "  :param model: (RL model)\n",
    "  :param video_length: (int)\n",
    "  :param prefix: (str)\n",
    "  :param video_folder: (str)\n",
    "  \"\"\"\n",
    "  rec = utils.VideoRecorder(video_folder, 320, 240, fps=10)\n",
    "  rec.init()\n",
    "  obs = env.reset()\n",
    "  for _ in range(video_length):\n",
    "    rec.record(env)\n",
    "    action = agent.get_action([obs], determ=True).cpu().numpy()[0]\n",
    "    obs, _, d, _ = env.step(action)\n",
    "    # print(d)\n",
    "    if d:\n",
    "      print(d)\n",
    "      obs = env.reset()\n",
    "  rec.save('cartpole_swingup.mp4')"
   ]
  },
  {
   "cell_type": "code",
   "execution_count": 38,
   "metadata": {},
   "outputs": [],
   "source": [
    "record_video(test_env, agent)"
   ]
  },
  {
   "cell_type": "code",
   "execution_count": null,
   "metadata": {},
   "outputs": [],
   "source": []
  }
 ],
 "metadata": {
  "interpreter": {
   "hash": "2281da7874bdb4b08d0295579b60d4cc29c0125e34af71f132693fe12fde0c34"
  },
  "kernelspec": {
   "display_name": "Python 3.8.12 64-bit ('drqv2': conda)",
   "name": "python3"
  },
  "language_info": {
   "codemirror_mode": {
    "name": "ipython",
    "version": 3
   },
   "file_extension": ".py",
   "mimetype": "text/x-python",
   "name": "python",
   "nbconvert_exporter": "python",
   "pygments_lexer": "ipython3",
   "version": "3.8.12"
  },
  "orig_nbformat": 4
 },
 "nbformat": 4,
 "nbformat_minor": 2
}
