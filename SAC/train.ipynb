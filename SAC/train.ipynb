{
 "cells": [
  {
   "cell_type": "code",
   "execution_count": 1,
   "metadata": {},
   "outputs": [
    {
     "ename": "KeyboardInterrupt",
     "evalue": "",
     "output_type": "error",
     "traceback": [
      "\u001b[0;31m---------------------------------------------------------------------------\u001b[0m",
      "\u001b[0;31mKeyboardInterrupt\u001b[0m                         Traceback (most recent call last)",
      "\u001b[0;32m/tmp/ipykernel_7904/1735375957.py\u001b[0m in \u001b[0;36m<module>\u001b[0;34m\u001b[0m\n\u001b[1;32m      4\u001b[0m \u001b[0;32mimport\u001b[0m \u001b[0mnetworks\u001b[0m\u001b[0;34m\u001b[0m\u001b[0;34m\u001b[0m\u001b[0m\n\u001b[1;32m      5\u001b[0m \u001b[0;32mimport\u001b[0m \u001b[0mreplaybuffer\u001b[0m\u001b[0;34m\u001b[0m\u001b[0;34m\u001b[0m\u001b[0m\n\u001b[0;32m----> 6\u001b[0;31m \u001b[0;32mimport\u001b[0m \u001b[0mgym\u001b[0m\u001b[0;34m\u001b[0m\u001b[0;34m\u001b[0m\u001b[0m\n\u001b[0m\u001b[1;32m      7\u001b[0m \u001b[0;32mimport\u001b[0m \u001b[0mmatplotlib\u001b[0m\u001b[0;34m.\u001b[0m\u001b[0mpyplot\u001b[0m \u001b[0;32mas\u001b[0m \u001b[0mplt\u001b[0m\u001b[0;34m\u001b[0m\u001b[0;34m\u001b[0m\u001b[0m\n\u001b[1;32m      8\u001b[0m \u001b[0;32mimport\u001b[0m \u001b[0msys\u001b[0m\u001b[0;34m,\u001b[0m \u001b[0mos\u001b[0m\u001b[0;34m\u001b[0m\u001b[0;34m\u001b[0m\u001b[0m\n",
      "\u001b[0;32m~/anaconda3/envs/drqv2/lib/python3.8/site-packages/gym/__init__.py\u001b[0m in \u001b[0;36m<module>\u001b[0;34m\u001b[0m\n\u001b[1;32m     14\u001b[0m \u001b[0;32mfrom\u001b[0m \u001b[0mgym\u001b[0m \u001b[0;32mimport\u001b[0m \u001b[0mlogger\u001b[0m\u001b[0;34m\u001b[0m\u001b[0;34m\u001b[0m\u001b[0m\n\u001b[1;32m     15\u001b[0m \u001b[0;32mfrom\u001b[0m \u001b[0mgym\u001b[0m \u001b[0;32mimport\u001b[0m \u001b[0mvector\u001b[0m\u001b[0;34m\u001b[0m\u001b[0;34m\u001b[0m\u001b[0m\n\u001b[0;32m---> 16\u001b[0;31m \u001b[0;32mfrom\u001b[0m \u001b[0mgym\u001b[0m \u001b[0;32mimport\u001b[0m \u001b[0mwrappers\u001b[0m\u001b[0;34m\u001b[0m\u001b[0;34m\u001b[0m\u001b[0m\n\u001b[0m\u001b[1;32m     17\u001b[0m \u001b[0;34m\u001b[0m\u001b[0m\n\u001b[1;32m     18\u001b[0m \u001b[0m__all__\u001b[0m \u001b[0;34m=\u001b[0m \u001b[0;34m[\u001b[0m\u001b[0;34m\"Env\"\u001b[0m\u001b[0;34m,\u001b[0m \u001b[0;34m\"Space\"\u001b[0m\u001b[0;34m,\u001b[0m \u001b[0;34m\"Wrapper\"\u001b[0m\u001b[0;34m,\u001b[0m \u001b[0;34m\"make\"\u001b[0m\u001b[0;34m,\u001b[0m \u001b[0;34m\"spec\"\u001b[0m\u001b[0;34m,\u001b[0m \u001b[0;34m\"register\"\u001b[0m\u001b[0;34m]\u001b[0m\u001b[0;34m\u001b[0m\u001b[0;34m\u001b[0m\u001b[0m\n",
      "\u001b[0;32m~/anaconda3/envs/drqv2/lib/python3.8/site-packages/gym/wrappers/__init__.py\u001b[0m in \u001b[0;36m<module>\u001b[0;34m\u001b[0m\n\u001b[1;32m      3\u001b[0m \u001b[0;32mfrom\u001b[0m \u001b[0mgym\u001b[0m\u001b[0;34m.\u001b[0m\u001b[0mwrappers\u001b[0m\u001b[0;34m.\u001b[0m\u001b[0mtime_limit\u001b[0m \u001b[0;32mimport\u001b[0m \u001b[0mTimeLimit\u001b[0m\u001b[0;34m\u001b[0m\u001b[0;34m\u001b[0m\u001b[0m\n\u001b[1;32m      4\u001b[0m \u001b[0;32mfrom\u001b[0m \u001b[0mgym\u001b[0m\u001b[0;34m.\u001b[0m\u001b[0mwrappers\u001b[0m\u001b[0;34m.\u001b[0m\u001b[0mfilter_observation\u001b[0m \u001b[0;32mimport\u001b[0m \u001b[0mFilterObservation\u001b[0m\u001b[0;34m\u001b[0m\u001b[0;34m\u001b[0m\u001b[0m\n\u001b[0;32m----> 5\u001b[0;31m \u001b[0;32mfrom\u001b[0m \u001b[0mgym\u001b[0m\u001b[0;34m.\u001b[0m\u001b[0mwrappers\u001b[0m\u001b[0;34m.\u001b[0m\u001b[0matari_preprocessing\u001b[0m \u001b[0;32mimport\u001b[0m \u001b[0mAtariPreprocessing\u001b[0m\u001b[0;34m\u001b[0m\u001b[0;34m\u001b[0m\u001b[0m\n\u001b[0m\u001b[1;32m      6\u001b[0m \u001b[0;32mfrom\u001b[0m \u001b[0mgym\u001b[0m\u001b[0;34m.\u001b[0m\u001b[0mwrappers\u001b[0m\u001b[0;34m.\u001b[0m\u001b[0mtime_aware_observation\u001b[0m \u001b[0;32mimport\u001b[0m \u001b[0mTimeAwareObservation\u001b[0m\u001b[0;34m\u001b[0m\u001b[0;34m\u001b[0m\u001b[0m\n\u001b[1;32m      7\u001b[0m \u001b[0;32mfrom\u001b[0m \u001b[0mgym\u001b[0m\u001b[0;34m.\u001b[0m\u001b[0mwrappers\u001b[0m\u001b[0;34m.\u001b[0m\u001b[0mrescale_action\u001b[0m \u001b[0;32mimport\u001b[0m \u001b[0mRescaleAction\u001b[0m\u001b[0;34m\u001b[0m\u001b[0;34m\u001b[0m\u001b[0m\n",
      "\u001b[0;32m~/anaconda3/envs/drqv2/lib/python3.8/site-packages/gym/wrappers/atari_preprocessing.py\u001b[0m in \u001b[0;36m<module>\u001b[0;34m\u001b[0m\n\u001b[1;32m      5\u001b[0m \u001b[0;34m\u001b[0m\u001b[0m\n\u001b[1;32m      6\u001b[0m \u001b[0;32mtry\u001b[0m\u001b[0;34m:\u001b[0m\u001b[0;34m\u001b[0m\u001b[0;34m\u001b[0m\u001b[0m\n\u001b[0;32m----> 7\u001b[0;31m     \u001b[0;32mimport\u001b[0m \u001b[0mcv2\u001b[0m\u001b[0;34m\u001b[0m\u001b[0;34m\u001b[0m\u001b[0m\n\u001b[0m\u001b[1;32m      8\u001b[0m \u001b[0;32mexcept\u001b[0m \u001b[0mImportError\u001b[0m\u001b[0;34m:\u001b[0m\u001b[0;34m\u001b[0m\u001b[0;34m\u001b[0m\u001b[0m\n\u001b[1;32m      9\u001b[0m     \u001b[0mcv2\u001b[0m \u001b[0;34m=\u001b[0m \u001b[0;32mNone\u001b[0m\u001b[0;34m\u001b[0m\u001b[0;34m\u001b[0m\u001b[0m\n",
      "\u001b[0;32m~/anaconda3/envs/drqv2/lib/python3.8/site-packages/cv2/__init__.py\u001b[0m in \u001b[0;36m<module>\u001b[0;34m\u001b[0m\n\u001b[1;32m      3\u001b[0m \u001b[0;32mimport\u001b[0m \u001b[0msys\u001b[0m\u001b[0;34m\u001b[0m\u001b[0;34m\u001b[0m\u001b[0m\n\u001b[1;32m      4\u001b[0m \u001b[0;34m\u001b[0m\u001b[0m\n\u001b[0;32m----> 5\u001b[0;31m \u001b[0;32mfrom\u001b[0m \u001b[0;34m.\u001b[0m\u001b[0mcv2\u001b[0m \u001b[0;32mimport\u001b[0m \u001b[0;34m*\u001b[0m\u001b[0;34m\u001b[0m\u001b[0;34m\u001b[0m\u001b[0m\n\u001b[0m\u001b[1;32m      6\u001b[0m \u001b[0;32mfrom\u001b[0m \u001b[0;34m.\u001b[0m\u001b[0mdata\u001b[0m \u001b[0;32mimport\u001b[0m \u001b[0;34m*\u001b[0m\u001b[0;34m\u001b[0m\u001b[0;34m\u001b[0m\u001b[0m\n\u001b[1;32m      7\u001b[0m \u001b[0;34m\u001b[0m\u001b[0m\n",
      "\u001b[0;31mKeyboardInterrupt\u001b[0m: "
     ]
    }
   ],
   "source": [
    "import torch\n",
    "import numpy as np\n",
    "import torch.nn as nn\n",
    "import networks\n",
    "import replaybuffer\n",
    "import gym\n",
    "import matplotlib.pyplot as plt\n",
    "import sys, os\n",
    "import utils\n",
    "from mj_point_clouds import PointCloudGenerator\n",
    "import open3d as o3d\n",
    "import time\n",
    "import PointCloudsGenerator as PCG\n",
    "\n",
    "\n",
    "if type(os.environ.get(\"DISPLAY\")) is not str or len(os.environ.get(\"DISPLAY\")) == 0:\n",
    "    !bash /home/as/xvfb start\n",
    "    os.environ['DISPLAY'] = ':1'"
   ]
  },
  {
   "cell_type": "code",
   "execution_count": null,
   "metadata": {},
   "outputs": [],
   "source": [
    "def gen_PC_for_state(pc_gen):\n",
    "    points = np.asarray(pc_gen.generateCroppedPointCloud().voxel_down_sample(voxel_size = 0.04).points)\n",
    "    points = points[points[:, 2] > 0.26]\n",
    "\n",
    "    if len(points) < 800:\n",
    "        points = np.concatenate([points, np.zeros((800 - len(points),3))], axis=0)\n",
    "    if len(points) > 800:\n",
    "        points = points[:800]\n",
    "    \n",
    "    return points.transpose((1, 0))"
   ]
  },
  {
   "cell_type": "code",
   "execution_count": null,
   "metadata": {},
   "outputs": [],
   "source": [
    "class PC_env_wrapper(gym.ObservationWrapper):\n",
    "    def __init__(self, env):\n",
    "        super(PC_env_wrapper, self).__init__(env)\n",
    "        self.pc_gen = PointCloudGenerator(env.sim, min_bound=(-1., -1., -1.), max_bound=(1., 1., 1.))\n",
    "        \n",
    "\n",
    "\n",
    "    def observation(self, obs):\n",
    "        o = gen_PC_for_state(self.pc_gen)\n",
    "        return o "
   ]
  },
  {
   "cell_type": "code",
   "execution_count": null,
   "metadata": {},
   "outputs": [],
   "source": [
    "class PC_env_wrapper(gym.ObservationWrapper):\n",
    "    def __init__(self, env):\n",
    "        super(PC_env_wrapper, self).__init__(env)\n",
    "        self.pc_gen = PCG.\n",
    "        \n",
    "\n",
    "\n",
    "    def observation(self, obs):\n",
    "        o = gen_PC_for_state(self.pc_gen)\n",
    "        return o "
   ]
  },
  {
   "cell_type": "code",
   "execution_count": null,
   "metadata": {},
   "outputs": [
    {
     "name": "stdout",
     "output_type": "stream",
     "text": [
      "cuda:0\n",
      "(111,)\n",
      "Box([-1. -1. -1. -1. -1. -1. -1. -1.], [1. 1. 1. 1. 1. 1. 1. 1.], (8,), float32)\n"
     ]
    }
   ],
   "source": [
    "ENV_NAME = 'Ant-v3'\n",
    "\n",
    "env = gym.make(ENV_NAME)\n",
    "test_env = gym.make(ENV_NAME)\n",
    "\n",
    "env = PC_env_wrapper(env)\n",
    "test_env = PC_env_wrapper(test_env)\n",
    "\n",
    "env.reset()\n",
    "test_env.reset()\n",
    "\n",
    "device = torch.device('cuda:0' if torch.cuda.is_available() else 'cpu')\n",
    "print(device)\n",
    "print(env.observation_space.shape)\n",
    "print(env.action_space)"
   ]
  },
  {
   "cell_type": "code",
   "execution_count": null,
   "metadata": {},
   "outputs": [
    {
     "name": "stdout",
     "output_type": "stream",
     "text": [
      "0.34291911125183105\n",
      "torch.Size([500, 500, 3])\n",
      "torch.Size([250000, 3])\n"
     ]
    }
   ],
   "source": [
    "import time\n",
    "\n",
    "\n",
    "\n",
    "\n",
    "pc_gen = PointCloudGenerator(env.sim, min_bound=(-1., -1., -1.), max_bound=(1., 1., 1.))\n",
    "\n",
    "start = time.time()\n",
    "cloud_with_normals = pc_gen.generateCroppedPointCloud()\n",
    "\n",
    "\n",
    "end = time.time()\n",
    "\n",
    "print(end-start)\n",
    "\n",
    "\n",
    "\n",
    "pc_gen = PCG.PointCloudGenerator(env.sim.model.cam_fovy[0], image_height=500, image_width=500, device=device)\n",
    "\n",
    "\n",
    "\n",
    "\n",
    "\n",
    "\n",
    "cloud_with_normals = cloud_with_normals.voxel_down_sample(voxel_size = 0.04)\n",
    "\n",
    "\n",
    "# cloud_with_normals.points = cut_z(cloud_with_normals)\n",
    "a = np.asarray(cloud_with_normals.points)\n",
    "\n",
    "# world_origin_axes = o3d.geometry.TriangleMesh.create_coordinate_frame()\n",
    "# o3d.visualization.draw_geometries([])"
   ]
  },
  {
   "cell_type": "code",
   "execution_count": null,
   "metadata": {},
   "outputs": [
    {
     "name": "stdout",
     "output_type": "stream",
     "text": [
      "0.0006062984466552734\n"
     ]
    }
   ],
   "source": [
    "depth = env.render('depth_array')\n",
    "\n",
    "start = time.time()\n",
    "pc = pc_gen.get_PC(depth)\n",
    "end = time.time()\n",
    "print(end-start)"
   ]
  },
  {
   "cell_type": "code",
   "execution_count": null,
   "metadata": {},
   "outputs": [],
   "source": [
    "import plotly.graph_objects as go\n",
    "\n",
    "def draw_pc (pc_arr):\n",
    "\n",
    "    x = np.array([pc_arr[i][0] for i in range(pc_arr.shape[0])])\n",
    "    y = np.array([pc_arr[i][1] for i in range(pc_arr.shape[0])])\n",
    "    z = np.array([pc_arr[i][2] for i in range(pc_arr.shape[0])])\n",
    "\n",
    "\n",
    "    fig = go.Figure(data=[go.Scatter3d(x=x, y=y, z=z, mode='markers', marker=dict(\n",
    "        size=1,\n",
    "        color=z,                # set color to an array/list of desired values\n",
    "        colorscale='Viridis',   # choose a colorscale\n",
    "        opacity=0.8\n",
    "        ))])\n",
    "\n",
    "  \n",
    "    fig.show()\n"
   ]
  },
  {
   "cell_type": "code",
   "execution_count": null,
   "metadata": {},
   "outputs": [
    {
     "name": "stdout",
     "output_type": "stream",
     "text": [
      "(3, 800)\n",
      "8\n"
     ]
    }
   ],
   "source": [
    "#TODO \n",
    "#env.observation_space.shape[0] or env.observation_space.shape\n",
    "\n",
    "hyper = {\n",
    "    # 'state_dim': env.observation_space.shape[0], \n",
    "    'state_dim': (3, 800),\n",
    "    'act_dim': env.action_space.shape[0],\n",
    "    'device': device,\n",
    "    'enc_type': 'PointCloud',\n",
    "    'hid_size': 30,\n",
    "    'num_filters': 32,\n",
    "    'alpha': 0.1,\n",
    "    'polyak': 0.995,\n",
    "    'lr': 3e-4,\n",
    "    'batch_size': 256,\n",
    "    'gamma': 0.99,\n",
    "    'n_eval_games': 3,\n",
    "    'max_episod_len': 1000,\n",
    "    'eval_freq': 10000,\n",
    "    'total_steps': 5000000,\n",
    "    'buffer_size': 40000,\n",
    "    'start_steps': 10000,\n",
    "    'update_freq': 1,\n",
    "    'aug_flag': False,\n",
    "    'aug_pad': 4,\n",
    "}\n",
    "\n",
    "print(hyper['state_dim'])\n",
    "print(hyper['act_dim'])"
   ]
  },
  {
   "cell_type": "code",
   "execution_count": null,
   "metadata": {},
   "outputs": [
    {
     "name": "stdout",
     "output_type": "stream",
     "text": [
      "SACAgent(\n",
      "  (policy): Actor(\n",
      "    (enc): PointCloudEncoder(\n",
      "      (net): Sequential(\n",
      "        (0): Conv1d(3, 32, kernel_size=(1,), stride=(1,))\n",
      "        (1): BatchNorm1d(32, eps=1e-05, momentum=0.1, affine=True, track_running_stats=True)\n",
      "        (2): Conv1d(32, 64, kernel_size=(1,), stride=(1,))\n",
      "        (3): BatchNorm1d(64, eps=1e-05, momentum=0.1, affine=True, track_running_stats=True)\n",
      "        (4): Conv1d(64, 30, kernel_size=(1,), stride=(1,))\n",
      "        (5): BatchNorm1d(30, eps=1e-05, momentum=0.1, affine=True, track_running_stats=True)\n",
      "      )\n",
      "      (mlp): Sequential(\n",
      "        (0): Linear(in_features=30, out_features=30, bias=True)\n",
      "        (1): ReLU()\n",
      "      )\n",
      "    )\n",
      "    (mu): Linear(in_features=30, out_features=8, bias=True)\n",
      "    (log_std): Linear(in_features=30, out_features=8, bias=True)\n",
      "  )\n",
      "  (Q1): Critic(\n",
      "    (enc): PointCloudEncoder(\n",
      "      (net): Sequential(\n",
      "        (0): Conv1d(3, 32, kernel_size=(1,), stride=(1,))\n",
      "        (1): BatchNorm1d(32, eps=1e-05, momentum=0.1, affine=True, track_running_stats=True)\n",
      "        (2): Conv1d(32, 64, kernel_size=(1,), stride=(1,))\n",
      "        (3): BatchNorm1d(64, eps=1e-05, momentum=0.1, affine=True, track_running_stats=True)\n",
      "        (4): Conv1d(64, 30, kernel_size=(1,), stride=(1,))\n",
      "        (5): BatchNorm1d(30, eps=1e-05, momentum=0.1, affine=True, track_running_stats=True)\n",
      "      )\n",
      "      (mlp): Sequential(\n",
      "        (0): Linear(in_features=38, out_features=30, bias=True)\n",
      "        (1): ReLU()\n",
      "      )\n",
      "    )\n",
      "    (q): Linear(in_features=30, out_features=1, bias=True)\n",
      "  )\n",
      "  (Q2): Critic(\n",
      "    (enc): PointCloudEncoder(\n",
      "      (net): Sequential(\n",
      "        (0): Conv1d(3, 32, kernel_size=(1,), stride=(1,))\n",
      "        (1): BatchNorm1d(32, eps=1e-05, momentum=0.1, affine=True, track_running_stats=True)\n",
      "        (2): Conv1d(32, 64, kernel_size=(1,), stride=(1,))\n",
      "        (3): BatchNorm1d(64, eps=1e-05, momentum=0.1, affine=True, track_running_stats=True)\n",
      "        (4): Conv1d(64, 30, kernel_size=(1,), stride=(1,))\n",
      "        (5): BatchNorm1d(30, eps=1e-05, momentum=0.1, affine=True, track_running_stats=True)\n",
      "      )\n",
      "      (mlp): Sequential(\n",
      "        (0): Linear(in_features=38, out_features=30, bias=True)\n",
      "        (1): ReLU()\n",
      "      )\n",
      "    )\n",
      "    (q): Linear(in_features=30, out_features=1, bias=True)\n",
      "  )\n",
      "  (policy_target): Actor(\n",
      "    (enc): PointCloudEncoder(\n",
      "      (net): Sequential(\n",
      "        (0): Conv1d(3, 32, kernel_size=(1,), stride=(1,))\n",
      "        (1): BatchNorm1d(32, eps=1e-05, momentum=0.1, affine=True, track_running_stats=True)\n",
      "        (2): Conv1d(32, 64, kernel_size=(1,), stride=(1,))\n",
      "        (3): BatchNorm1d(64, eps=1e-05, momentum=0.1, affine=True, track_running_stats=True)\n",
      "        (4): Conv1d(64, 30, kernel_size=(1,), stride=(1,))\n",
      "        (5): BatchNorm1d(30, eps=1e-05, momentum=0.1, affine=True, track_running_stats=True)\n",
      "      )\n",
      "      (mlp): Sequential(\n",
      "        (0): Linear(in_features=30, out_features=30, bias=True)\n",
      "        (1): ReLU()\n",
      "      )\n",
      "    )\n",
      "    (mu): Linear(in_features=30, out_features=8, bias=True)\n",
      "    (log_std): Linear(in_features=30, out_features=8, bias=True)\n",
      "  )\n",
      "  (Q1_target): Critic(\n",
      "    (enc): PointCloudEncoder(\n",
      "      (net): Sequential(\n",
      "        (0): Conv1d(3, 32, kernel_size=(1,), stride=(1,))\n",
      "        (1): BatchNorm1d(32, eps=1e-05, momentum=0.1, affine=True, track_running_stats=True)\n",
      "        (2): Conv1d(32, 64, kernel_size=(1,), stride=(1,))\n",
      "        (3): BatchNorm1d(64, eps=1e-05, momentum=0.1, affine=True, track_running_stats=True)\n",
      "        (4): Conv1d(64, 30, kernel_size=(1,), stride=(1,))\n",
      "        (5): BatchNorm1d(30, eps=1e-05, momentum=0.1, affine=True, track_running_stats=True)\n",
      "      )\n",
      "      (mlp): Sequential(\n",
      "        (0): Linear(in_features=38, out_features=30, bias=True)\n",
      "        (1): ReLU()\n",
      "      )\n",
      "    )\n",
      "    (q): Linear(in_features=30, out_features=1, bias=True)\n",
      "  )\n",
      "  (Q2_target): Critic(\n",
      "    (enc): PointCloudEncoder(\n",
      "      (net): Sequential(\n",
      "        (0): Conv1d(3, 32, kernel_size=(1,), stride=(1,))\n",
      "        (1): BatchNorm1d(32, eps=1e-05, momentum=0.1, affine=True, track_running_stats=True)\n",
      "        (2): Conv1d(32, 64, kernel_size=(1,), stride=(1,))\n",
      "        (3): BatchNorm1d(64, eps=1e-05, momentum=0.1, affine=True, track_running_stats=True)\n",
      "        (4): Conv1d(64, 30, kernel_size=(1,), stride=(1,))\n",
      "        (5): BatchNorm1d(30, eps=1e-05, momentum=0.1, affine=True, track_running_stats=True)\n",
      "      )\n",
      "      (mlp): Sequential(\n",
      "        (0): Linear(in_features=38, out_features=30, bias=True)\n",
      "        (1): ReLU()\n",
      "      )\n",
      "    )\n",
      "    (q): Linear(in_features=30, out_features=1, bias=True)\n",
      "  )\n",
      ")\n"
     ]
    }
   ],
   "source": [
    "agent = networks.SACAgent(hyper['state_dim'], hyper['act_dim'], hyper['device'], hyper['enc_type'], hyper['hid_size'], hyper['num_filters'], hyper['alpha'], hyper['polyak'], hyper['lr'], hyper['batch_size'], hyper['gamma'])\n",
    "\n",
    "print(agent)"
   ]
  },
  {
   "cell_type": "code",
   "execution_count": null,
   "metadata": {},
   "outputs": [],
   "source": [
    "def evaluate(env, agent, n_games=1, max_episod_len=hyper['max_episod_len']):\n",
    "    reward = 0\n",
    "    for n in range(n_games):\n",
    "        s = env.reset()\n",
    "        # s = torch.Tensor([s], dtype=torch.float32, device=hyper['device'])\n",
    "        for st in range(max_episod_len):\n",
    "            a = agent.get_action([s], determ=True).cpu().numpy()[0]\n",
    "            s, r, d, _ = env.step(a)\n",
    "            reward += r\n",
    "            if d:\n",
    "                break\n",
    "    return (reward/n_games)"
   ]
  },
  {
   "cell_type": "code",
   "execution_count": null,
   "metadata": {},
   "outputs": [],
   "source": [
    "step = 0\n",
    "steps = []\n",
    "buffer = replaybuffer.ReplayBufer(hyper['buffer_size'], hyper['act_dim'], hyper['state_dim'], hyper['device'], image_pad=hyper['aug_pad'], enc_type=hyper['enc_type'], aug_flag=hyper['aug_flag'])\n",
    "state = env.reset()\n",
    "return_hist = []\n",
    "q1_hist = []\n",
    "q2_hist = []\n",
    "max_mean_return = -100000"
   ]
  },
  {
   "cell_type": "code",
   "execution_count": 2,
   "metadata": {},
   "outputs": [
    {
     "ename": "NameError",
     "evalue": "name 'step' is not defined",
     "output_type": "error",
     "traceback": [
      "\u001b[0;31m---------------------------------------------------------------------------\u001b[0m",
      "\u001b[0;31mNameError\u001b[0m                                 Traceback (most recent call last)",
      "\u001b[0;32m/tmp/ipykernel_7904/1015600047.py\u001b[0m in \u001b[0;36m<module>\u001b[0;34m\u001b[0m\n\u001b[1;32m      6\u001b[0m \u001b[0;34m\u001b[0m\u001b[0m\n\u001b[1;32m      7\u001b[0m \u001b[0;34m\u001b[0m\u001b[0m\n\u001b[0;32m----> 8\u001b[0;31m \u001b[0;32mwith\u001b[0m \u001b[0mtqdm\u001b[0m\u001b[0;34m.\u001b[0m\u001b[0mtrange\u001b[0m\u001b[0;34m(\u001b[0m\u001b[0mstep\u001b[0m\u001b[0;34m,\u001b[0m \u001b[0mhyper\u001b[0m\u001b[0;34m[\u001b[0m\u001b[0;34m'total_steps'\u001b[0m\u001b[0;34m]\u001b[0m\u001b[0;34m+\u001b[0m \u001b[0;36m1\u001b[0m\u001b[0;34m)\u001b[0m \u001b[0;32mas\u001b[0m \u001b[0mprogress_bar\u001b[0m\u001b[0;34m:\u001b[0m\u001b[0;34m\u001b[0m\u001b[0;34m\u001b[0m\u001b[0m\n\u001b[0m\u001b[1;32m      9\u001b[0m     \u001b[0;32mfor\u001b[0m \u001b[0mstep\u001b[0m \u001b[0;32min\u001b[0m \u001b[0mprogress_bar\u001b[0m\u001b[0;34m:\u001b[0m\u001b[0;34m\u001b[0m\u001b[0;34m\u001b[0m\u001b[0m\n\u001b[1;32m     10\u001b[0m         \u001b[0;32mif\u001b[0m \u001b[0mstep\u001b[0m \u001b[0;34m>\u001b[0m \u001b[0mhyper\u001b[0m\u001b[0;34m[\u001b[0m\u001b[0;34m'start_steps'\u001b[0m\u001b[0;34m]\u001b[0m\u001b[0;34m:\u001b[0m\u001b[0;34m\u001b[0m\u001b[0;34m\u001b[0m\u001b[0m\n",
      "\u001b[0;31mNameError\u001b[0m: name 'step' is not defined"
     ]
    }
   ],
   "source": [
    "import tqdm\n",
    "from IPython.display import clear_output\n",
    "import time\n",
    "\n",
    "ep_len = 0\n",
    "\n",
    "\n",
    "with tqdm.trange(step, hyper['total_steps']+ 1) as progress_bar:\n",
    "    for step in progress_bar:\n",
    "        if step > hyper['start_steps']:\n",
    "            action = agent.get_action([state]).cpu().numpy()[0]\n",
    "        else:\n",
    "            action = env.action_space.sample()\n",
    "        \n",
    "        if ep_len == 0:\n",
    "            with torch.no_grad():\n",
    "                q1_hist.append(agent.Q1(torch.as_tensor([state], dtype=torch.float32, device=agent.device), torch.as_tensor([action], dtype=torch.float32, device=agent.device)).item())\n",
    "                q2_hist.append(agent.Q2(torch.as_tensor([state], dtype=torch.float32, device=agent.device), torch.as_tensor([action], dtype=torch.float32, device=agent.device)).item())\n",
    "\n",
    "\n",
    "        next_state, reward, done, _ = env.step(action)\n",
    "        \n",
    "        ep_len += 1\n",
    "\n",
    "\n",
    "\n",
    "        done = False if (ep_len == hyper['max_episod_len']) else done\n",
    "        buffer.store(state, action, reward, next_state, done)\n",
    "        state = next_state\n",
    "\n",
    "        if done or (ep_len == hyper['max_episod_len']):\n",
    "            state = env.reset()\n",
    "            ep_len = 0\n",
    "        \n",
    "        \n",
    "        if step % hyper['update_freq'] == 0:\n",
    "            s, a, r, s_next, d = buffer.sample_batch(hyper['batch_size'])\n",
    "            agent.update(s, a, r, s_next, d)\n",
    "            \n",
    "\n",
    "        if (step+1) % hyper['eval_freq'] == 0:\n",
    "            mean_return = evaluate(test_env, agent, hyper['n_eval_games'])\n",
    "#             writer.add_scalar('pendulum_swingup', mean_return, step)\n",
    "            clear_output()\n",
    "            steps.append(step)\n",
    "            return_hist.append(mean_return)\n",
    "\n",
    "            if mean_return > max_mean_return:\n",
    "                torch.save(agent, 'best_agent1.pth')\n",
    "                max_mean_return = mean_return\n",
    "\n",
    "            figg = plt.figure(figsize=(12, 7))\n",
    "\n",
    "            plt.subplot(2, 2, 1)\n",
    "            plt.title('Eval return')\n",
    "            plt.plot(steps, return_hist)\n",
    "            plt.grid(True)\n",
    "\n",
    "            plt.subplot(2, 2, 2)\n",
    "            plt.title('Init state Q1')\n",
    "            plt.plot(q1_hist)\n",
    "            plt.grid(True)\n",
    "\n",
    "            plt.subplot(2, 2, 3)\n",
    "            plt.title('Init state Q2')\n",
    "            plt.plot(q2_hist)\n",
    "            plt.grid(True)\n",
    "            \n",
    "            figg.savefig('gr1.png')\n",
    "\n",
    "            torch.save(agent, 'last_agent1.pth')"
   ]
  },
  {
   "cell_type": "code",
   "execution_count": null,
   "metadata": {},
   "outputs": [
    {
     "name": "stderr",
     "output_type": "stream",
     "text": [
      "sh: 1: Xvfb: not found\n"
     ]
    }
   ],
   "source": [
    "import os\n",
    "os.system(\"Xvfb :1 -screen 0 1024x768x24 &\")\n",
    "os.environ['DISPLAY'] = ':1'\n",
    "import base64\n",
    "from pathlib import Path\n",
    "\n",
    "from IPython import display as ipythondisplay\n",
    "\n",
    "\n",
    "def record_video(env, model, video_length=500, prefix='', video_folder='videos/'):\n",
    "  \"\"\"\n",
    "  :param env_id: (str)\n",
    "  :param model: (RL model)\n",
    "  :param video_length: (int)\n",
    "  :param prefix: (str)\n",
    "  :param video_folder: (str)\n",
    "  \"\"\"\n",
    "  rec = utils.VideoRecorder(video_folder, 400, 400, fps=10)\n",
    "  rec.init()\n",
    "  obs = env.reset()\n",
    "  for _ in range(video_length):\n",
    "    rec.record(env.unwrapped)\n",
    "    action = agent.get_action([obs], determ=True).cpu().numpy()[0]\n",
    "    obs, _, d, _ = env.step(action)\n",
    "    # print(d)\n",
    "    if d:\n",
    "      print(d)\n",
    "      obs = env.reset()\n",
    "  rec.save('Ant-PC.mp4')"
   ]
  },
  {
   "cell_type": "code",
   "execution_count": null,
   "metadata": {},
   "outputs": [
    {
     "name": "stdout",
     "output_type": "stream",
     "text": [
      "True\n",
      "True\n"
     ]
    }
   ],
   "source": [
    "record_video(test_env, agent)"
   ]
  },
  {
   "cell_type": "code",
   "execution_count": null,
   "metadata": {},
   "outputs": [],
   "source": []
  }
 ],
 "metadata": {
  "interpreter": {
   "hash": "2281da7874bdb4b08d0295579b60d4cc29c0125e34af71f132693fe12fde0c34"
  },
  "kernelspec": {
   "display_name": "Python 3.8.12 64-bit ('drqv2': conda)",
   "name": "python3"
  },
  "language_info": {
   "codemirror_mode": {
    "name": "ipython",
    "version": 3
   },
   "file_extension": ".py",
   "mimetype": "text/x-python",
   "name": "python",
   "nbconvert_exporter": "python",
   "pygments_lexer": "ipython3",
   "version": "3.8.12"
  },
  "orig_nbformat": 4
 },
 "nbformat": 4,
 "nbformat_minor": 2
}
